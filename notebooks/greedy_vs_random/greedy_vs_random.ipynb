{
 "cells": [
  {
   "cell_type": "markdown",
   "metadata": {},
   "source": [
    "# Greedy vs Random"
   ]
  },
  {
   "cell_type": "code",
   "execution_count": 2,
   "metadata": {},
   "outputs": [],
   "source": [
    "import sys\n",
    "sys.path.append('../../')\n",
    "\n",
    "from azkaban.agent import RandomAgent, GreedyAgent\n",
    "from azkaban.env import TeamsEnv, TeamsEnvConf, TeamsActions\n",
    "from azkaban.monitor import VideoMonitor"
   ]
  },
  {
   "cell_type": "markdown",
   "metadata": {},
   "source": [
    "### Create 2 teams env\n",
    "\n",
    "- `random` random agents\n",
    "- `greedy` greedy agents attacking closest agent if possible or acting randomly otherwise"
   ]
  },
  {
   "cell_type": "code",
   "execution_count": 3,
   "metadata": {},
   "outputs": [],
   "source": [
    "env = TeamsEnv(\n",
    "    teams=[\n",
    "        (RandomAgent(), RandomAgent()),\n",
    "        (\n",
    "            GreedyAgent(base_action=TeamsActions.ATTACK.value, fallback_agent=RandomAgent()),\n",
    "            GreedyAgent(base_action=TeamsActions.ATTACK.value, fallback_agent=RandomAgent())\n",
    "        )\n",
    "    ],\n",
    "    conf=TeamsEnvConf(\n",
    "        world_shape=(10, 10),\n",
    "        comm_shape=(5,),\n",
    "        team_names=['random', 'greedy']\n",
    "    )\n",
    ")"
   ]
  },
  {
   "cell_type": "markdown",
   "metadata": {},
   "source": [
    "### Play session"
   ]
  },
  {
   "cell_type": "code",
   "execution_count": 4,
   "metadata": {},
   "outputs": [],
   "source": [
    "env = VideoMonitor(env)\n",
    "env.reset(outfile='result.mp4')\n",
    "\n",
    "done = False\n",
    "for i in range(1000):\n",
    "    done = env.step()\n",
    "    if done:\n",
    "        break\n",
    "\n",
    "if not done:\n",
    "    env.finish()"
   ]
  },
  {
   "cell_type": "markdown",
   "metadata": {},
   "source": [
    "### Praise winners"
   ]
  },
  {
   "cell_type": "code",
   "execution_count": 5,
   "metadata": {},
   "outputs": [
    {
     "data": {
      "text/html": [
       "\n",
       "<video width=\"640\" height=\"480\" controls>\n",
       "  <source src=\"result.mp4\" type=\"video/mp4\">\n",
       "</video>\n"
      ],
      "text/plain": [
       "<IPython.core.display.HTML object>"
      ]
     },
     "execution_count": 5,
     "metadata": {},
     "output_type": "execute_result"
    }
   ],
   "source": [
    "from IPython.display import HTML\n",
    "import os\n",
    "\n",
    "HTML(\"\"\"\n",
    "<video width=\"640\" height=\"480\" controls>\n",
    "  <source src=\"{video}\" type=\"video/mp4\">\n",
    "</video>\n",
    "\"\"\".format(video='result.mp4'))"
   ]
  }
 ],
 "metadata": {
  "kernelspec": {
   "display_name": "Python 3",
   "language": "python",
   "name": "python3"
  },
  "language_info": {
   "codemirror_mode": {
    "name": "ipython",
    "version": 3
   },
   "file_extension": ".py",
   "mimetype": "text/x-python",
   "name": "python",
   "nbconvert_exporter": "python",
   "pygments_lexer": "ipython3",
   "version": "3.6.1"
  }
 },
 "nbformat": 4,
 "nbformat_minor": 2
}
