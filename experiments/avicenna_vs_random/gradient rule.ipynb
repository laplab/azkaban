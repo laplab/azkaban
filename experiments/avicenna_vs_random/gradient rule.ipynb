{
 "cells": [
  {
   "cell_type": "code",
   "execution_count": 1,
   "metadata": {},
   "outputs": [],
   "source": [
    "import torch, torch.nn as nn, torch.nn.functional as F, numpy as np"
   ]
  },
  {
   "cell_type": "code",
   "execution_count": 2,
   "metadata": {},
   "outputs": [],
   "source": [
    "from torch.autograd import Variable"
   ]
  },
  {
   "cell_type": "code",
   "execution_count": 3,
   "metadata": {},
   "outputs": [],
   "source": [
    "state_size = 24\n",
    "comm_size = 128\n",
    "\n",
    "communicate = nn.Sequential(nn.Linear(state_size, 32), nn.ReLU(), nn.Linear(32, comm_size))\n",
    "\n",
    "# communication -> V(s, c)\n",
    "other_agents_value = nn.Sequential(nn.Linear(comm_size, 64), nn.ReLU(), nn.Linear(64, 1))"
   ]
  },
  {
   "cell_type": "code",
   "execution_count": 7,
   "metadata": {},
   "outputs": [],
   "source": [
    "class agent:\n",
    "    state = Variable(torch.randn(1, state_size))\n",
    "    comm = communicate(state)\n",
    "\n",
    "class env: \n",
    "    comm = agent.comm.data.numpy()\n",
    "    \n",
    "class recipient:\n",
    "    comm = Variable(torch.from_numpy(env.comm), requires_grad=True)\n",
    "    \n",
    "    value = other_agents_value(comm)\n",
    "    \n",
    "    comm_loss = -value.mean()\n",
    "    \n",
    "    dloss_dcomm = torch.autograd.grad(comm_loss, [comm])[0]\n",
    "    \n",
    "class agent_training:\n",
    "    agent.comm.backward(gradient=recipient.dloss_dcomm)\n",
    "    "
   ]
  },
  {
   "cell_type": "code",
   "execution_count": 36,
   "metadata": {},
   "outputs": [],
   "source": [
    "next(other_agents_value.parameters()).grad"
   ]
  },
  {
   "cell_type": "code",
   "execution_count": 8,
   "metadata": {},
   "outputs": [
    {
     "data": {
      "text/plain": [
       "torch.Size([1, 128])"
      ]
     },
     "execution_count": 8,
     "metadata": {},
     "output_type": "execute_result"
    }
   ],
   "source": [
    "recipient.dloss_dcomm.size()"
   ]
  },
  {
   "cell_type": "code",
   "execution_count": 6,
   "metadata": {},
   "outputs": [],
   "source": [
    "agent.comm.grad"
   ]
  },
  {
   "cell_type": "code",
   "execution_count": null,
   "metadata": {},
   "outputs": [],
   "source": []
  }
 ],
 "metadata": {
  "kernelspec": {
   "display_name": "Python 3",
   "language": "python",
   "name": "python3"
  },
  "language_info": {
   "codemirror_mode": {
    "name": "ipython",
    "version": 3
   },
   "file_extension": ".py",
   "mimetype": "text/x-python",
   "name": "python",
   "nbconvert_exporter": "python",
   "pygments_lexer": "ipython3",
   "version": "3.6.1"
  }
 },
 "nbformat": 4,
 "nbformat_minor": 2
}
